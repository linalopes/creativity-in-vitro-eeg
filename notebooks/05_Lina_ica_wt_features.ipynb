{
 "cells": [
  {
   "cell_type": "code",
   "execution_count": 1,
   "metadata": {},
   "outputs": [],
   "source": [
    "from pathlib import Path\n",
    "import datetime\n",
    "import pandas as pd\n",
    "import numpy as np\n",
    "import matplotlib.pyplot as plt\n",
    "import mne\n",
    "from mne.preprocessing import ICA\n",
    "from mne_icalabel import label_components"
   ]
  },
  {
   "cell_type": "code",
   "execution_count": null,
   "metadata": {},
   "outputs": [],
   "source": [
    "CONFIG = dict(\n",
    "\n",
    "    # ---------- paths ----------------------------------------------------\n",
    "    paths = dict(\n",
    "        bids_root   = Path(\"../data\"),\n",
    "        deriv_root  = Path(\"../data/derivatives\"),\n",
    "        filt_dir    = Path(\"../data/derivatives/filt_crop\"),\n",
    "        ica_dir     = Path(\"../data/derivatives/ica_clean\"),\n",
    "        feat_dir    = Path(\"../data/derivatives/features\")\n",
    "    ),\n",
    "\n",
    "    # ---------- recording constants --------------------------------------\n",
    "    data = dict(\n",
    "        sfreq       = 125.0,                      # Hz\n",
    "        eeg_ch      = [\"Fp1\",\"Fp2\",\"C3\",\"C4\",\"T7\",\"T8\",\n",
    "                       \"O1\",\"O2\",\"F3\",\"F4\",\"Fz\",\"Pz\",\"P3\",\"P4\"],\n",
    "        montage     = \"standard_1020\",\n",
    "        n_blocks    = 20,\n",
    "    ),\n",
    "\n",
    "    # ---------- ICA parameters -------------------------------------------\n",
    "    ica = dict(\n",
    "        method         = \"picard\",    # \"fastica\" | \"picard\" | \"infomax\"\n",
    "        n_components   = 0.99,        # keep 99 % of variance\n",
    "        random_state   = 42,\n",
    "        max_iter       = 500,\n",
    "        decim          = 3            # speed-up; 125/3 ≈ 42 Hz\n",
    "    ),\n",
    "\n",
    "    # ---------- auto-reject thresholds (z-score in IC space) -------------\n",
    "    reject = dict(\n",
    "        eog_z     = 3.0,     # eye blinks\n",
    "        emg_z     = 3.0,     # muscle\n",
    "        slow_z    = 3.0      # slow drifts\n",
    "    ),\n",
    "\n",
    "    # ---------- feature extraction ---------------------------------------\n",
    "    features = dict(\n",
    "        bands   = {\"delta\":(1,4), \"theta\":(4,8),\n",
    "                   \"alpha\":(8,13), \"beta\":(13,30),\n",
    "                   \"gamma\":(30,45)},\n",
    "        win_sec     = 2.0,   # sliding-window length\n",
    "        step_sec    = 0.5,\n",
    "        wavelet_levels = 6\n",
    "    ),\n",
    "\n",
    "    # ---------- first classifier to prototype ----------------------------\n",
    "    model = dict(\n",
    "        clf          = \"lightgbm\",   # or \"svm\"\n",
    "        cv_folds     = 5,\n",
    "        test_size    = 0.2\n",
    "    ),\n",
    ")\n",
    "\n",
    "# create sub-folders if they don’t exist\n",
    "for p in CONFIG[\"paths\"].values():\n",
    "    p.mkdir(parents=True, exist_ok=True)\n",
    "\n",
    "print(\"Config loaded – ready for ICA & features 🚀\")\n"
   ]
  }
 ],
 "metadata": {
  "kernelspec": {
   "display_name": "creativity-eeg",
   "language": "python",
   "name": "python3"
  },
  "language_info": {
   "codemirror_mode": {
    "name": "ipython",
    "version": 3
   },
   "file_extension": ".py",
   "mimetype": "text/x-python",
   "name": "python",
   "nbconvert_exporter": "python",
   "pygments_lexer": "ipython3",
   "version": "3.10.17"
  }
 },
 "nbformat": 4,
 "nbformat_minor": 2
}
